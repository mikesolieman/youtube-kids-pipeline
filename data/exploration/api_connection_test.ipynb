{
 "cells": [
  {
   "cell_type": "code",
   "execution_count": 4,
   "metadata": {},
   "outputs": [
    {
     "name": "stdout",
     "output_type": "stream",
     "text": [
      "Python packages imported successfully!\n",
      "YouTube API connection successful!\n",
      "Channel Name: Cocomelon - Nursery Rhymes\n",
      "Subscriber Count: 187000000\n"
     ]
    }
   ],
   "source": [
    "# Test notebook content\n",
    "import os\n",
    "from google.oauth2 import service_account\n",
    "from googleapiclient.discovery import build\n",
    "import pandas as pd\n",
    "\n",
    "# Test environment setup\n",
    "print(\"Python packages imported successfully!\")\n",
    "\n",
    "# Test YouTube API connection\n",
    "try:\n",
    "    youtube = build('youtube', 'v3', \n",
    "                   developerKey=os.getenv('YOUTUBE_API_KEY'))\n",
    "    request = youtube.channels().list(\n",
    "        part=\"snippet,statistics\",\n",
    "        id=\"UCbCmjCuTUZos6Inko4u57UQ\"  # Cocomelon channel ID\n",
    "    )\n",
    "    response = request.execute()\n",
    "    print(\"YouTube API connection successful!\")\n",
    "    print(f\"Channel Name: {response['items'][0]['snippet']['title']}\")\n",
    "    print(f\"Subscriber Count: {response['items'][0]['statistics']['subscriberCount']}\")\n",
    "except Exception as e:\n",
    "    print(f\"Error connecting to YouTube API: {str(e)}\")\n",
    "    "
   ]
  }
 ],
 "metadata": {
  "kernelspec": {
   "display_name": "Python 3 (ipykernel)",
   "language": "python",
   "name": "python3"
  }
 },
 "nbformat": 4,
 "nbformat_minor": 2
}
