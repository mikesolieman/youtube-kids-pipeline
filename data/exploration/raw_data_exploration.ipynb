{
 "cells": [
  {
   "cell_type": "code",
   "execution_count": 1,
   "metadata": {},
   "outputs": [
    {
     "name": "stdout",
     "output_type": "stream",
     "text": [
      "\n",
      "Fetching channel details...\n",
      "Data saved to data/raw/channel_details_20241223_235839.json\n",
      "\n",
      "Fetching videos from 2023...\n",
      "Data saved to data/raw/video_details_20241223_235839.json\n",
      "\n",
      "Fetched 9 videos\n",
      "API quota units used: 101\n"
     ]
    }
   ],
   "source": [
    "import sys\n",
    "from pathlib import Path\n",
    "\n",
    "# Add project root to Python path\n",
    "sys.path.append('/app')\n",
    "\n",
    "from src.extractors.youtube_extractor import YouTubeKidsExtractor\n",
    "\n",
    "# Initialize extractor\n",
    "extractor = YouTubeKidsExtractor()\n",
    "extractor.ensure_data_directories()\n",
    "\n",
    "# Test channel extraction\n",
    "channel_id = \"UCbCmjCuTUZos6Inko4u57UQ\"  # Cocomelon\n",
    "print(\"\\nFetching channel details...\")\n",
    "channel_data = extractor.get_channel_details(channel_id)\n",
    "if channel_data:\n",
    "    extractor.save_data(channel_data, \"channel_details\")\n",
    "\n",
    "# Test video extraction with date range\n",
    "print(\"\\nFetching videos from 2023...\")\n",
    "videos, quota_used = extractor.get_video_details(\n",
    "    channel_id,\n",
    "    start_date=\"2023-01-01T00:00:00\",\n",
    "    end_date=\"2023-01-31T23:59:59\"\n",
    ")\n",
    "\n",
    "if videos:\n",
    "    extractor.save_data(videos, \"video_details\")\n",
    "    print(f\"\\nFetched {len(videos)} videos\")\n",
    "    print(f\"API quota units used: {quota_used}\")"
   ]
  }
 ],
 "metadata": {
  "kernelspec": {
   "display_name": "Python 3 (ipykernel)",
   "language": "python",
   "name": "python3"
  },
  "language_info": {
   "codemirror_mode": {
    "name": "ipython",
    "version": 3
   },
   "file_extension": ".py",
   "mimetype": "text/x-python",
   "name": "python",
   "nbconvert_exporter": "python",
   "pygments_lexer": "ipython3",
   "version": "3.9.21"
  }
 },
 "nbformat": 4,
 "nbformat_minor": 2
}
